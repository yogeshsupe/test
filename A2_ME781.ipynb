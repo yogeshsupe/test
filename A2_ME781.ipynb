{
 "cells": [
  {
   "cell_type": "markdown",
   "metadata": {},
   "source": [
    "## Assignment 2  ME 781  (Data Scale)"
   ]
  },
  {
   "attachments": {
    "MicrosoftTeams-image2.png": {
     "image/png": "[encoded data removed]"
    }
   },
   "cell_type": "markdown",
   "metadata": {},
   "source": [
    "### Perform the following tasks in sequence:\n",
    "\n",
    "1. Create a list of 5 open data sets available for machine learning along with their links for each of the three Data Types (Discrete data Type, Sequential (temporal) data Type and Spatial data Type)\n",
    "\n",
    "\n",
    "2. Write a python code to input a dataset (csv file) of Discrete data type, automatically identify and print the\n",
    "\n",
    "    a. Number of attributes and number of entries\n",
    "    \n",
    "    b. Data scale of each attribute\n",
    "    \n",
    "    c. Data value of each attribute\n",
    "\n",
    "\n",
    "3.      Write a python code to perform statistics on each data column based on its data scale.\n",
    "\n",
    "\n",
    "4.      Can we use a box plot for visualizing ordinal data? (Yes/No). Explain why. \n",
    "\n",
    "![MicrosoftTeams-image2.png](attachment:MicrosoftTeams-image2.png)\n",
    "\n",
    "\n",
    "5.      Write a python code to visualize data in the csv file (a generalized method depending upon data scale) \n",
    "\n",
    "    Assignment instructions:\n",
    "    1. Naming convention: Please name your colab files as rollnumber_A2.ipynb. \n",
    "    2. Learn how to use markdown to add texts in colab to make your code interactive and understandable. \n",
    "    3. After completion of your assignment download the file as .ipynb and submit itusing Teams assignment tab."
   ]
  },
  {
   "cell_type": "markdown",
   "metadata": {},
   "source": [
    "  ###  We have a software to check plagiarism in code, if anyone found copying the code, strict action will be taken against such students and can also be given FR grade directly.\n",
    "    \n",
    "  We  expect  you  to  upload  colab  notebooks  when  you  are  required  to  turn  your  programming assignments.  Please  make  sure  that  you  provide  enough  comments  in  the  code  for  the TAs to understand \n",
    "       "
   ]
  },
  {
   "cell_type": "markdown",
   "metadata": {},
   "source": [
    "### Libraries"
   ]
  },
  {
   "cell_type": "code",
   "execution_count": 1,
   "metadata": {},
   "outputs": [],
   "source": [
    "import numpy as np\n",
    "import pandas as pd\n",
    "import matplotlib.pyplot as plt\n",
    "import seaborn as sns "
   ]
  },
  {
   "cell_type": "markdown",
   "metadata": {},
   "source": [
    "### 1. List of 5 open data sets"
   ]
  },
  {
   "cell_type": "code",
   "execution_count": null,
   "metadata": {},
   "outputs": [],
   "source": [
    "## Paste the URLs of open datasets here and add comments describing the dataset\n",
    "url1 = \n",
    "url2 = \n",
    "url3 = \n",
    "url4 = \n",
    "url5 = "
   ]
  },
  {
   "cell_type": "markdown",
   "metadata": {},
   "source": [
    "### 2.   Write a python code to input a dataset (csv file) of Discrete datatype, automatically identify and print the\n",
    "\n",
    "    a. Number of attributes and number of data points\n",
    "    \n",
    "    b. Data scale of each attribute\n",
    "    \n",
    "    c. Data value of each attribute"
   ]
  },
  {
   "cell_type": "markdown",
   "metadata": {},
   "source": [
    "#### Note: The number of categories for categorical (nominal,ordinal) data scale for the evaluating datasets is not greater than 8."
   ]
  },
  {
   "cell_type": "code",
   "execution_count": null,
   "metadata": {},
   "outputs": [],
   "source": [
    "def data_description(filename):\n",
    "    ## Write a well commented function that inputs dataset file location (.csv file) and outputs the following\n",
    "    ## 1. data_scale (of length = number of attributes)\n",
    "    ## 2. data_value (of length = number of attributes)\n",
    "    ## 3. imported dataset for later use\n",
    "    ## It should also print those details for each attribute(Output must be similar to what is mentioned below)\n",
    "    \n",
    "    \n",
    "    \n",
    "    return data_scale, data_value, df"
   ]
  },
  {
   "cell_type": "markdown",
   "metadata": {},
   "source": [
    "    Output must similar to this:\n",
    "    \n",
    "    This dataset contains 649 entries, each with 6 attributes\n",
    "\n",
    "    0 gender : nominal, discrete\n",
    "    1 age : ratio, discrete\n",
    "    2 health_rating : ordinal, discrete\n",
    "    3 StudentIQ : ratio, discrete\n",
    "    4 no_of_courses : ratio, discrete\n",
    "    5 Marks : ratio, continuous\n"
   ]
  },
  {
   "cell_type": "markdown",
   "metadata": {},
   "source": [
    "### 3. Write a python code to perform statistics on each data column based on its data scale."
   ]
  },
  {
   "cell_type": "code",
   "execution_count": null,
   "metadata": {},
   "outputs": [],
   "source": [
    "def stats(filename):\n",
    "    ## Write a well commented function that calls the function data_description and prints\n",
    "    ## relevant statistics based on data scale.\n",
    "    ## Hint: Explore describe()\n",
    "    return"
   ]
  },
  {
   "cell_type": "markdown",
   "metadata": {},
   "source": [
    "    Output must be some what similar to this:\n",
    "\n",
    "    gender\n",
    "    mode F\n",
    "    F    383\n",
    "    M    266\n",
    "    Name: gender, dtype: int64 \n",
    "\n",
    "    age\n",
    "    mode      17.000000\n",
    "    mean      16.744222\n",
    "    std        1.218138\n",
    "    min       15.000000\n",
    "    25%       16.000000\n",
    "    median    17.000000\n",
    "    75%       18.000000\n",
    "    max       22.000000\n",
    "    Name: age, dtype: float64 \n",
    "\n",
    "    health_rating\n",
    "    mode   5\n",
    "    median 4\n",
    "    1     90\n",
    "    2     78\n",
    "    3    124\n",
    "    4    108\n",
    "    5    249\n",
    "    Name: health_rating, dtype: int64 \n",
    "\n",
    "    StudentIQ\n",
    "    mode     104.000000\n",
    "    mean     100.229584\n",
    "    std       10.256494\n",
    "    min       75.000000\n",
    "    25%       93.000000\n",
    "    median   101.000000\n",
    "    75%      107.000000\n",
    "    max      131.000000\n",
    "    Name: StudentIQ, dtype: float64 \n",
    "\n",
    "    no_of_courses\n",
    "    mode      17.000000\n",
    "    count    649.000000\n",
    "    mean      10.596302\n",
    "    std        5.714697\n",
    "    min        1.000000\n",
    "    25%        5.000000\n",
    "    median    11.000000\n",
    "    75%       16.000000\n",
    "    max       20.000000\n",
    "    Name: no_of_courses, dtype: float64 \n",
    "\n",
    "    Marks\n",
    "    mode      52.810000\n",
    "    count    649.000000\n",
    "    mean      75.137257\n",
    "    std       14.559722\n",
    "    min       50.120000\n",
    "    25%       62.560000\n",
    "    median    75.120000\n",
    "    75%       87.670000\n",
    "    max       99.860000\n",
    "    Name: Marks, dtype: float64 "
   ]
  },
  {
   "attachments": {
    "MicrosoftTeams-image2.png": {
     "image/png": "[encoded data removed]"
    }
   },
   "cell_type": "markdown",
   "metadata": {},
   "source": [
    "### 4. Can we use a box plot for visualizing ordinal data ? (Yes/No). Explain why.\n",
    "![MicrosoftTeams-image2.png](attachment:MicrosoftTeams-image2.png)"
   ]
  },
  {
   "cell_type": "markdown",
   "metadata": {},
   "source": [
    "### Write your answer here. \n",
    "    YES/NO Because"
   ]
  },
  {
   "cell_type": "markdown",
   "metadata": {},
   "source": [
    "###   5.  Write a python code to visualize the data (a generalized method depending on data scale) "
   ]
  },
  {
   "cell_type": "code",
   "execution_count": null,
   "metadata": {},
   "outputs": [],
   "source": [
    "def visualize_data(filename):\n",
    "        ## Write a well commented function that can call any of the functions from above \n",
    "        ## to plot relevant plots\n",
    "        ## Hint: Use sns.distplot, sns.countplot. Make a new figure for each plot (plt.figure(i))\n",
    "        return"
   ]
  }
 ],
 "metadata": {
  "celltoolbar": "Raw Cell Format",
  "kernelspec": {
   "display_name": "Python 3",
   "language": "python",
   "name": "python3"
  },
  "language_info": {
   "codemirror_mode": {
    "name": "ipython",
    "version": 3
   },
   "file_extension": ".py",
   "mimetype": "text/x-python",
   "name": "python",
   "nbconvert_exporter": "python",
   "pygments_lexer": "ipython3",
   "version": "3.7.1"
  }
 },
 "nbformat": 4,
 "nbformat_minor": 4
}
